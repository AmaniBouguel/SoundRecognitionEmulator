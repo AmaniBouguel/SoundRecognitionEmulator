{
 "cells": [
  {
   "cell_type": "code",
   "execution_count": 1,
   "id": "84e40d9c",
   "metadata": {},
   "outputs": [],
   "source": [
    "##conda install -c conda-forge speechrecognition (voice recognition)\n",
    "##conda install PyAudio (needed for speech recognition)\n",
    "##conda install pip\n",
    "##pip install pyttsx3 (text to speech)\n",
    "##pip install pywhatkit (advance control on browser)\n",
    "##pip install wikipedia\n",
    "##pip install pyjokes"
   ]
  },
  {
   "cell_type": "code",
   "execution_count": 2,
   "id": "e12d4e80",
   "metadata": {},
   "outputs": [],
   "source": [
    "import speech_recognition as sr\n",
    "import pyttsx3\n",
    "import pywhatkit\n",
    "import datetime\n",
    "import wikipedia\n",
    "import pyjokes"
   ]
  },
  {
   "cell_type": "code",
   "execution_count": 3,
   "id": "e602ade3",
   "metadata": {},
   "outputs": [],
   "source": [
    "command=''\n",
    "listener = sr.Recognizer()\n",
    "engine = pyttsx3.init()\n",
    "voices=engine.getProperty('voices')\n",
    "#i=0\n",
    "#for voice in voices:\n",
    "#    if \"fr\" in voice.id:\n",
    "#        print(i)\n",
    "#        print(voice.id)\n",
    "#    i+=1\n",
    "engine.setProperty('voice', voices[26].id)\n",
    "##engine.say('The quick brown fox jumped over the lazy dog.')\n",
    "##engine.runAndWait()\n",
    "##print(\" - Languages: %s\" % voices[0].languages)\n",
    "##print('lan'+engine.getProperty('languages'))\n",
    "#with sr.Microphone() as source:\n",
    "#    print('listenning...')\n",
    "#    voice=listener.listen(source)\n",
    "#    command=listener.recognize_google(voice)\n",
    "    ##command=command.lower\n",
    "#    print(command)\n",
    "#time=''\n",
    "#if 'play' in command:\n",
    "#    time=datetime.datetime.now().strftime('%I:%M %p')\n",
    "#engine.say(time)\n",
    "#print('engine'+time)\n",
    "#engine.runAndWait()"
   ]
  },
  {
   "cell_type": "code",
   "execution_count": 4,
   "id": "96629e10",
   "metadata": {},
   "outputs": [],
   "source": [
    "def talk(text):\n",
    "    engine.say(text)\n",
    "    engine.runAndWait()"
   ]
  },
  {
   "cell_type": "code",
   "execution_count": 5,
   "id": "abf6a7b8",
   "metadata": {},
   "outputs": [],
   "source": [
    "def take_command():\n",
    "    try:\n",
    "        with sr.Microphone() as source:\n",
    "            print('listenning...')\n",
    "            voice=listener.listen(source)\n",
    "            command=listener.recognize_google(voice)\n",
    "            ##command=command.lower\n",
    "            if 'alexa' in command:\n",
    "                command = command.replace('alexa','')\n",
    "            print(command)\n",
    "    except:\n",
    "        pass\n",
    "    return command"
   ]
  },
  {
   "cell_type": "code",
   "execution_count": 6,
   "id": "0fe7773c",
   "metadata": {},
   "outputs": [],
   "source": [
    "def run_alexa():\n",
    "    com=take_command()\n",
    "    print(com)\n",
    "    if 'play' in com:\n",
    "        song=com.replace('play','')\n",
    "        talk('playing'+song)\n",
    "        pywhatkit.playonyt(song)\n",
    "    elif 'time' in com:\n",
    "        time=datetime.datetime.now().strftime('%I:%M %p')\n",
    "        talk('Current time is '+time)\n",
    "    elif 'who is' in com:\n",
    "        person=com.replace('who is','')\n",
    "        info=wikipedia.summary(person,1)\n",
    "        print(info)\n",
    "        talk(info)\n",
    "    elif 'joke' in com:\n",
    "        talk(pyjokes.get_joke())\n",
    "    elif 'what do you do' in com:\n",
    "        talk('speaking with you')\n",
    "    elif 'happy' in com:\n",
    "        talk('yesss')\n",
    "    else:\n",
    "        talk('I could not get you, could you please repeat')\n",
    "        run_alexa()"
   ]
  },
  {
   "cell_type": "code",
   "execution_count": null,
   "id": "7322d45a",
   "metadata": {},
   "outputs": [
    {
     "name": "stderr",
     "output_type": "stream",
     "text": [
      "ALSA lib pcm_dsnoop.c:606:(snd_pcm_dsnoop_open) unable to open slave\n",
      "ALSA lib pcm_dmix.c:1029:(snd_pcm_dmix_open) unable to open slave\n",
      "ALSA lib pcm.c:2266:(snd_pcm_open_noupdate) Unknown PCM cards.pcm.rear\n",
      "ALSA lib pcm.c:2266:(snd_pcm_open_noupdate) Unknown PCM cards.pcm.center_lfe\n",
      "ALSA lib pcm.c:2266:(snd_pcm_open_noupdate) Unknown PCM cards.pcm.side\n",
      "ALSA lib pcm_dmix.c:1029:(snd_pcm_dmix_open) unable to open slave\n",
      "ALSA lib pcm_dsnoop.c:606:(snd_pcm_dsnoop_open) unable to open slave\n",
      "ALSA lib pcm_dmix.c:1029:(snd_pcm_dmix_open) unable to open slave\n",
      "ALSA lib pcm.c:2266:(snd_pcm_open_noupdate) Unknown PCM cards.pcm.rear\n",
      "ALSA lib pcm.c:2266:(snd_pcm_open_noupdate) Unknown PCM cards.pcm.center_lfe\n",
      "ALSA lib pcm.c:2266:(snd_pcm_open_noupdate) Unknown PCM cards.pcm.side\n",
      "ALSA lib pcm_dmix.c:1029:(snd_pcm_dmix_open) unable to open slave\n"
     ]
    },
    {
     "name": "stdout",
     "output_type": "stream",
     "text": [
      "listenning...\n"
     ]
    }
   ],
   "source": [
    "run_alexa()"
   ]
  },
  {
   "cell_type": "code",
   "execution_count": null,
   "id": "490b89e4",
   "metadata": {},
   "outputs": [],
   "source": []
  }
 ],
 "metadata": {
  "kernelspec": {
   "display_name": "Python 3 (ipykernel)",
   "language": "python",
   "name": "python3"
  },
  "language_info": {
   "codemirror_mode": {
    "name": "ipython",
    "version": 3
   },
   "file_extension": ".py",
   "mimetype": "text/x-python",
   "name": "python",
   "nbconvert_exporter": "python",
   "pygments_lexer": "ipython3",
   "version": "3.9.13"
  }
 },
 "nbformat": 4,
 "nbformat_minor": 5
}
